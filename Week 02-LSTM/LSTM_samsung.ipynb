{
  "nbformat": 4,
  "nbformat_minor": 0,
  "metadata": {
    "colab": {
      "name": "Week 02-LSTM_samsung.ipynb",
      "provenance": [],
      "collapsed_sections": [],
      "toc_visible": true,
      "authorship_tag": "ABX9TyPq5rQKvnN6Aq8tzTZl3U/e",
      "include_colab_link": true
    },
    "kernelspec": {
      "name": "python3",
      "display_name": "Python 3"
    }
  },
  "cells": [
    {
      "cell_type": "markdown",
      "metadata": {
        "id": "view-in-github",
        "colab_type": "text"
      },
      "source": [
        "<a href=\"https://colab.research.google.com/github/HanNayeoniee/NLP-study/blob/main/Week_02_LSTM_samsung.ipynb\" target=\"_parent\"><img src=\"https://colab.research.google.com/assets/colab-badge.svg\" alt=\"Open In Colab\"/></a>"
      ]
    },
    {
      "cell_type": "markdown",
      "metadata": {
        "id": "AIvGdSSogksn"
      },
      "source": [
        "### LSTM을 활용해 삼성전자 주가 예측하기\r\n",
        "- 참고 : \r\n",
        "https://teddylee777.github.io/tensorflow/LSTM%EC%9C%BC%EB%A1%9C-%EC%98%88%EC%B8%A1%ED%95%B4%EB%B3%B4%EB%8A%94-%EC%82%BC%EC%84%B1%EC%A0%84%EC%9E%90-%EC%A3%BC%EA%B0%80\r\n",
        "- 데이터셋 : https://drive.google.com/file/d/10hjZ9VRyoaLNNdguedxSfYz0fSqLaWJM/view"
      ]
    },
    {
      "cell_type": "code",
      "metadata": {
        "colab": {
          "base_uri": "https://localhost:8080/"
        },
        "id": "OX48QqZlgeok",
        "outputId": "214743db-6fc0-4c81-9559-ea894487c1be"
      },
      "source": [
        "# 데이터가 들어있는 구글 드라이브 마운트\r\n",
        "from google.colab import drive\r\n",
        "drive.mount('/content/drive')"
      ],
      "execution_count": null,
      "outputs": [
        {
          "output_type": "stream",
          "text": [
            "Mounted at /content/drive\n"
          ],
          "name": "stdout"
        }
      ]
    },
    {
      "cell_type": "code",
      "metadata": {
        "id": "c67guFmilCqX"
      },
      "source": [
        "# 라이브러리 임포트\r\n",
        "import numpy as np\r\n",
        "import pandas as pd\r\n",
        "import matplotlib.pyplot as plt\r\n",
        "import seaborn as sns\r\n",
        "from sklearn.preprocessing import MinMaxScaler\r\n",
        "from sklearn.model_selection import train_test_split"
      ],
      "execution_count": null,
      "outputs": []
    },
    {
      "cell_type": "code",
      "metadata": {
        "colab": {
          "base_uri": "https://localhost:8080/",
          "height": 297
        },
        "id": "8eUYh4KwhcDJ",
        "outputId": "fe88aae2-ce52-4a96-bd1d-7566f15c5420"
      },
      "source": [
        "# 데이터셋 생성\r\n",
        "# 일자, 시가, 고가, 저가로 종가를 예측하기\r\n",
        "\r\n",
        "data_path = \"/content/drive/MyDrive/NLPstudy/data/01-삼성전자-주가.csv\"\r\n",
        "df = pd.read_csv(data_path, encoding='utf8')\r\n",
        "df.describe()"
      ],
      "execution_count": null,
      "outputs": [
        {
          "output_type": "execute_result",
          "data": {
            "text/html": [
              "<div>\n",
              "<style scoped>\n",
              "    .dataframe tbody tr th:only-of-type {\n",
              "        vertical-align: middle;\n",
              "    }\n",
              "\n",
              "    .dataframe tbody tr th {\n",
              "        vertical-align: top;\n",
              "    }\n",
              "\n",
              "    .dataframe thead th {\n",
              "        text-align: right;\n",
              "    }\n",
              "</style>\n",
              "<table border=\"1\" class=\"dataframe\">\n",
              "  <thead>\n",
              "    <tr style=\"text-align: right;\">\n",
              "      <th></th>\n",
              "      <th>일자</th>\n",
              "      <th>시가</th>\n",
              "      <th>고가</th>\n",
              "      <th>저가</th>\n",
              "      <th>종가</th>\n",
              "      <th>거래량</th>\n",
              "    </tr>\n",
              "  </thead>\n",
              "  <tbody>\n",
              "    <tr>\n",
              "      <th>count</th>\n",
              "      <td>9.288000e+03</td>\n",
              "      <td>9288.000000</td>\n",
              "      <td>9288.000000</td>\n",
              "      <td>9288.000000</td>\n",
              "      <td>9288.000000</td>\n",
              "      <td>9.288000e+03</td>\n",
              "    </tr>\n",
              "    <tr>\n",
              "      <th>mean</th>\n",
              "      <td>2.001347e+07</td>\n",
              "      <td>11108.556417</td>\n",
              "      <td>11228.754522</td>\n",
              "      <td>10986.106481</td>\n",
              "      <td>11108.235465</td>\n",
              "      <td>1.645823e+07</td>\n",
              "    </tr>\n",
              "    <tr>\n",
              "      <th>std</th>\n",
              "      <td>1.015376e+05</td>\n",
              "      <td>13792.646300</td>\n",
              "      <td>13920.105135</td>\n",
              "      <td>13658.809496</td>\n",
              "      <td>13790.922497</td>\n",
              "      <td>1.701535e+07</td>\n",
              "    </tr>\n",
              "    <tr>\n",
              "      <th>min</th>\n",
              "      <td>1.985010e+07</td>\n",
              "      <td>116.000000</td>\n",
              "      <td>116.000000</td>\n",
              "      <td>115.000000</td>\n",
              "      <td>116.000000</td>\n",
              "      <td>0.000000e+00</td>\n",
              "    </tr>\n",
              "    <tr>\n",
              "      <th>25%</th>\n",
              "      <td>1.992121e+07</td>\n",
              "      <td>624.000000</td>\n",
              "      <td>632.000000</td>\n",
              "      <td>620.000000</td>\n",
              "      <td>623.000000</td>\n",
              "      <td>3.833986e+06</td>\n",
              "    </tr>\n",
              "    <tr>\n",
              "      <th>50%</th>\n",
              "      <td>2.001032e+07</td>\n",
              "      <td>5045.000000</td>\n",
              "      <td>5190.000000</td>\n",
              "      <td>4955.000000</td>\n",
              "      <td>5075.000000</td>\n",
              "      <td>1.199608e+07</td>\n",
              "    </tr>\n",
              "    <tr>\n",
              "      <th>75%</th>\n",
              "      <td>2.010080e+07</td>\n",
              "      <td>15920.000000</td>\n",
              "      <td>16050.000000</td>\n",
              "      <td>15740.000000</td>\n",
              "      <td>15920.000000</td>\n",
              "      <td>2.284080e+07</td>\n",
              "    </tr>\n",
              "    <tr>\n",
              "      <th>max</th>\n",
              "      <td>2.020011e+07</td>\n",
              "      <td>57500.000000</td>\n",
              "      <td>57520.000000</td>\n",
              "      <td>56760.000000</td>\n",
              "      <td>57220.000000</td>\n",
              "      <td>3.266220e+08</td>\n",
              "    </tr>\n",
              "  </tbody>\n",
              "</table>\n",
              "</div>"
            ],
            "text/plain": [
              "                 일자            시가  ...            종가           거래량\n",
              "count  9.288000e+03   9288.000000  ...   9288.000000  9.288000e+03\n",
              "mean   2.001347e+07  11108.556417  ...  11108.235465  1.645823e+07\n",
              "std    1.015376e+05  13792.646300  ...  13790.922497  1.701535e+07\n",
              "min    1.985010e+07    116.000000  ...    116.000000  0.000000e+00\n",
              "25%    1.992121e+07    624.000000  ...    623.000000  3.833986e+06\n",
              "50%    2.001032e+07   5045.000000  ...   5075.000000  1.199608e+07\n",
              "75%    2.010080e+07  15920.000000  ...  15920.000000  2.284080e+07\n",
              "max    2.020011e+07  57500.000000  ...  57220.000000  3.266220e+08\n",
              "\n",
              "[8 rows x 6 columns]"
            ]
          },
          "metadata": {
            "tags": []
          },
          "execution_count": 22
        }
      ]
    },
    {
      "cell_type": "code",
      "metadata": {
        "id": "vY8bjXsPiHxV"
      },
      "source": [
        "# 날짜 datetime 형식으로 변환\r\n",
        "\r\n",
        "pd.to_datetime(df['일자'], format='%Y%m%d')\r\n",
        "\r\n",
        "df['일자'] = pd.to_datetime(df_price['일자'], format='%Y%m%d')\r\n",
        "df['연도'] = df['일자'].dt.year\r\n",
        "df['월'] = df['일자'].dt.month\r\n",
        "df['일'] = df['일자'].dt.day"
      ],
      "execution_count": null,
      "outputs": []
    },
    {
      "cell_type": "code",
      "metadata": {
        "colab": {
          "base_uri": "https://localhost:8080/",
          "height": 419
        },
        "id": "XKDDKFuVi_Id",
        "outputId": "2dabdba4-07b2-4318-9da0-717acad81d3e"
      },
      "source": [
        "df"
      ],
      "execution_count": null,
      "outputs": [
        {
          "output_type": "execute_result",
          "data": {
            "text/html": [
              "<div>\n",
              "<style scoped>\n",
              "    .dataframe tbody tr th:only-of-type {\n",
              "        vertical-align: middle;\n",
              "    }\n",
              "\n",
              "    .dataframe tbody tr th {\n",
              "        vertical-align: top;\n",
              "    }\n",
              "\n",
              "    .dataframe thead th {\n",
              "        text-align: right;\n",
              "    }\n",
              "</style>\n",
              "<table border=\"1\" class=\"dataframe\">\n",
              "  <thead>\n",
              "    <tr style=\"text-align: right;\">\n",
              "      <th></th>\n",
              "      <th>일자</th>\n",
              "      <th>시가</th>\n",
              "      <th>고가</th>\n",
              "      <th>저가</th>\n",
              "      <th>종가</th>\n",
              "      <th>거래량</th>\n",
              "      <th>연도</th>\n",
              "      <th>월</th>\n",
              "      <th>일</th>\n",
              "    </tr>\n",
              "  </thead>\n",
              "  <tbody>\n",
              "    <tr>\n",
              "      <th>0</th>\n",
              "      <td>2020-01-07</td>\n",
              "      <td>55700</td>\n",
              "      <td>56400</td>\n",
              "      <td>55600</td>\n",
              "      <td>55800</td>\n",
              "      <td>9893846</td>\n",
              "      <td>2020</td>\n",
              "      <td>1</td>\n",
              "      <td>7</td>\n",
              "    </tr>\n",
              "    <tr>\n",
              "      <th>1</th>\n",
              "      <td>2020-01-06</td>\n",
              "      <td>54900</td>\n",
              "      <td>55600</td>\n",
              "      <td>54600</td>\n",
              "      <td>55500</td>\n",
              "      <td>10278951</td>\n",
              "      <td>2020</td>\n",
              "      <td>1</td>\n",
              "      <td>6</td>\n",
              "    </tr>\n",
              "    <tr>\n",
              "      <th>2</th>\n",
              "      <td>2020-01-03</td>\n",
              "      <td>56000</td>\n",
              "      <td>56600</td>\n",
              "      <td>54900</td>\n",
              "      <td>55500</td>\n",
              "      <td>15422255</td>\n",
              "      <td>2020</td>\n",
              "      <td>1</td>\n",
              "      <td>3</td>\n",
              "    </tr>\n",
              "    <tr>\n",
              "      <th>3</th>\n",
              "      <td>2020-01-02</td>\n",
              "      <td>55500</td>\n",
              "      <td>56000</td>\n",
              "      <td>55000</td>\n",
              "      <td>55200</td>\n",
              "      <td>12993228</td>\n",
              "      <td>2020</td>\n",
              "      <td>1</td>\n",
              "      <td>2</td>\n",
              "    </tr>\n",
              "    <tr>\n",
              "      <th>4</th>\n",
              "      <td>2019-12-30</td>\n",
              "      <td>56200</td>\n",
              "      <td>56600</td>\n",
              "      <td>55700</td>\n",
              "      <td>55800</td>\n",
              "      <td>8356767</td>\n",
              "      <td>2019</td>\n",
              "      <td>12</td>\n",
              "      <td>30</td>\n",
              "    </tr>\n",
              "    <tr>\n",
              "      <th>...</th>\n",
              "      <td>...</td>\n",
              "      <td>...</td>\n",
              "      <td>...</td>\n",
              "      <td>...</td>\n",
              "      <td>...</td>\n",
              "      <td>...</td>\n",
              "      <td>...</td>\n",
              "      <td>...</td>\n",
              "      <td>...</td>\n",
              "    </tr>\n",
              "    <tr>\n",
              "      <th>9283</th>\n",
              "      <td>1985-01-09</td>\n",
              "      <td>126</td>\n",
              "      <td>126</td>\n",
              "      <td>122</td>\n",
              "      <td>123</td>\n",
              "      <td>324836</td>\n",
              "      <td>1985</td>\n",
              "      <td>1</td>\n",
              "      <td>9</td>\n",
              "    </tr>\n",
              "    <tr>\n",
              "      <th>9284</th>\n",
              "      <td>1985-01-08</td>\n",
              "      <td>129</td>\n",
              "      <td>129</td>\n",
              "      <td>127</td>\n",
              "      <td>127</td>\n",
              "      <td>845098</td>\n",
              "      <td>1985</td>\n",
              "      <td>1</td>\n",
              "      <td>8</td>\n",
              "    </tr>\n",
              "    <tr>\n",
              "      <th>9285</th>\n",
              "      <td>1985-01-07</td>\n",
              "      <td>129</td>\n",
              "      <td>130</td>\n",
              "      <td>128</td>\n",
              "      <td>129</td>\n",
              "      <td>771895</td>\n",
              "      <td>1985</td>\n",
              "      <td>1</td>\n",
              "      <td>7</td>\n",
              "    </tr>\n",
              "    <tr>\n",
              "      <th>9286</th>\n",
              "      <td>1985-01-05</td>\n",
              "      <td>129</td>\n",
              "      <td>129</td>\n",
              "      <td>128</td>\n",
              "      <td>128</td>\n",
              "      <td>108496</td>\n",
              "      <td>1985</td>\n",
              "      <td>1</td>\n",
              "      <td>5</td>\n",
              "    </tr>\n",
              "    <tr>\n",
              "      <th>9287</th>\n",
              "      <td>1985-01-04</td>\n",
              "      <td>130</td>\n",
              "      <td>130</td>\n",
              "      <td>129</td>\n",
              "      <td>129</td>\n",
              "      <td>111764</td>\n",
              "      <td>1985</td>\n",
              "      <td>1</td>\n",
              "      <td>4</td>\n",
              "    </tr>\n",
              "  </tbody>\n",
              "</table>\n",
              "<p>9288 rows × 9 columns</p>\n",
              "</div>"
            ],
            "text/plain": [
              "             일자     시가     고가     저가     종가       거래량    연도   월   일\n",
              "0    2020-01-07  55700  56400  55600  55800   9893846  2020   1   7\n",
              "1    2020-01-06  54900  55600  54600  55500  10278951  2020   1   6\n",
              "2    2020-01-03  56000  56600  54900  55500  15422255  2020   1   3\n",
              "3    2020-01-02  55500  56000  55000  55200  12993228  2020   1   2\n",
              "4    2019-12-30  56200  56600  55700  55800   8356767  2019  12  30\n",
              "...         ...    ...    ...    ...    ...       ...   ...  ..  ..\n",
              "9283 1985-01-09    126    126    122    123    324836  1985   1   9\n",
              "9284 1985-01-08    129    129    127    127    845098  1985   1   8\n",
              "9285 1985-01-07    129    130    128    129    771895  1985   1   7\n",
              "9286 1985-01-05    129    129    128    128    108496  1985   1   5\n",
              "9287 1985-01-04    130    130    129    129    111764  1985   1   4\n",
              "\n",
              "[9288 rows x 9 columns]"
            ]
          },
          "metadata": {
            "tags": []
          },
          "execution_count": 24
        }
      ]
    },
    {
      "cell_type": "code",
      "metadata": {
        "colab": {
          "base_uri": "https://localhost:8080/",
          "height": 609
        },
        "id": "VJ7H7vXejBDp",
        "outputId": "cf78007f-e3d8-4df1-c1dc-b46075eec783"
      },
      "source": [
        "# 1990년도 이후의 주가 시각화\r\n",
        "\r\n",
        "![stock-data-01](../../../Downloads/07-CHROME_DOWNLOAD_200213/0215-blog/stock-data-01.pngdf = df.loc[df['연도']>=1990]\r\n",
        "\r\n",
        "plt.figure(figsize=(16, 9))\r\n",
        "sns.lineplot(y=df['종가'], x=df['일자'])\r\n",
        "plt.xlabel('time')\r\n",
        "plt.ylabel('price')"
      ],
      "execution_count": null,
      "outputs": [
        {
          "output_type": "stream",
          "text": [
            "/bin/bash: -c: line 0: syntax error near unexpected token `../../../Downloads/07-CHROME_DOWNLOAD_200213/0215-blog/stock-data-01.pngdf'\n",
            "/bin/bash: -c: line 0: `[stock-data-01](../../../Downloads/07-CHROME_DOWNLOAD_200213/0215-blog/stock-data-01.pngdf = df.loc[df['연도']>=1990]'\n"
          ],
          "name": "stdout"
        },
        {
          "output_type": "execute_result",
          "data": {
            "text/plain": [
              "Text(0, 0.5, 'price')"
            ]
          },
          "metadata": {
            "tags": []
          },
          "execution_count": 25
        },
        {
          "output_type": "display_data",
          "data": {
            "image/png": "[encoded data removed]",
            "text/plain": [
              "<Figure size 1152x648 with 1 Axes>"
            ]
          },
          "metadata": {
            "tags": [],
            "needs_background": "light"
          }
        }
      ]
    },
    {
      "cell_type": "code",
      "metadata": {
        "colab": {
          "base_uri": "https://localhost:8080/",
          "height": 419
        },
        "id": "RrJPp52ejJLJ",
        "outputId": "07029caf-006a-4b0c-ae84-31827346311a"
      },
      "source": [
        "# Normalization\r\n",
        "# 전체 학습 데이터를 정규화, 전체 데이터는 0~1사이의 값을 가지게 됨\r\n",
        "\r\n",
        "scaler = MinMaxScaler()\r\n",
        "scale_cols = ['시가', '고가', '저가', '종가', '거래량']\r\n",
        "df_scaled = scaler.fit_transform(df[scale_cols])\r\n",
        "\r\n",
        "df_scaled = pd.DataFrame(df_scaled)\r\n",
        "df_scaled.columns = scale_cols\r\n",
        "\r\n",
        "df_scaled"
      ],
      "execution_count": null,
      "outputs": [
        {
          "output_type": "execute_result",
          "data": {
            "text/html": [
              "<div>\n",
              "<style scoped>\n",
              "    .dataframe tbody tr th:only-of-type {\n",
              "        vertical-align: middle;\n",
              "    }\n",
              "\n",
              "    .dataframe tbody tr th {\n",
              "        vertical-align: top;\n",
              "    }\n",
              "\n",
              "    .dataframe thead th {\n",
              "        text-align: right;\n",
              "    }\n",
              "</style>\n",
              "<table border=\"1\" class=\"dataframe\">\n",
              "  <thead>\n",
              "    <tr style=\"text-align: right;\">\n",
              "      <th></th>\n",
              "      <th>시가</th>\n",
              "      <th>고가</th>\n",
              "      <th>저가</th>\n",
              "      <th>종가</th>\n",
              "      <th>거래량</th>\n",
              "    </tr>\n",
              "  </thead>\n",
              "  <tbody>\n",
              "    <tr>\n",
              "      <th>0</th>\n",
              "      <td>0.968632</td>\n",
              "      <td>0.980489</td>\n",
              "      <td>0.979522</td>\n",
              "      <td>0.975133</td>\n",
              "      <td>0.030291</td>\n",
              "    </tr>\n",
              "    <tr>\n",
              "      <th>1</th>\n",
              "      <td>0.954691</td>\n",
              "      <td>0.966553</td>\n",
              "      <td>0.961868</td>\n",
              "      <td>0.969880</td>\n",
              "      <td>0.031470</td>\n",
              "    </tr>\n",
              "    <tr>\n",
              "      <th>2</th>\n",
              "      <td>0.973860</td>\n",
              "      <td>0.983973</td>\n",
              "      <td>0.967164</td>\n",
              "      <td>0.969880</td>\n",
              "      <td>0.047217</td>\n",
              "    </tr>\n",
              "    <tr>\n",
              "      <th>3</th>\n",
              "      <td>0.965147</td>\n",
              "      <td>0.973521</td>\n",
              "      <td>0.968929</td>\n",
              "      <td>0.964626</td>\n",
              "      <td>0.039781</td>\n",
              "    </tr>\n",
              "    <tr>\n",
              "      <th>4</th>\n",
              "      <td>0.977346</td>\n",
              "      <td>0.983973</td>\n",
              "      <td>0.981287</td>\n",
              "      <td>0.975133</td>\n",
              "      <td>0.025585</td>\n",
              "    </tr>\n",
              "    <tr>\n",
              "      <th>...</th>\n",
              "      <td>...</td>\n",
              "      <td>...</td>\n",
              "      <td>...</td>\n",
              "      <td>...</td>\n",
              "      <td>...</td>\n",
              "    </tr>\n",
              "    <tr>\n",
              "      <th>9283</th>\n",
              "      <td>0.000174</td>\n",
              "      <td>0.000174</td>\n",
              "      <td>0.000124</td>\n",
              "      <td>0.000123</td>\n",
              "      <td>0.000995</td>\n",
              "    </tr>\n",
              "    <tr>\n",
              "      <th>9284</th>\n",
              "      <td>0.000227</td>\n",
              "      <td>0.000226</td>\n",
              "      <td>0.000212</td>\n",
              "      <td>0.000193</td>\n",
              "      <td>0.002587</td>\n",
              "    </tr>\n",
              "    <tr>\n",
              "      <th>9285</th>\n",
              "      <td>0.000227</td>\n",
              "      <td>0.000244</td>\n",
              "      <td>0.000229</td>\n",
              "      <td>0.000228</td>\n",
              "      <td>0.002363</td>\n",
              "    </tr>\n",
              "    <tr>\n",
              "      <th>9286</th>\n",
              "      <td>0.000227</td>\n",
              "      <td>0.000226</td>\n",
              "      <td>0.000229</td>\n",
              "      <td>0.000210</td>\n",
              "      <td>0.000332</td>\n",
              "    </tr>\n",
              "    <tr>\n",
              "      <th>9287</th>\n",
              "      <td>0.000244</td>\n",
              "      <td>0.000244</td>\n",
              "      <td>0.000247</td>\n",
              "      <td>0.000228</td>\n",
              "      <td>0.000342</td>\n",
              "    </tr>\n",
              "  </tbody>\n",
              "</table>\n",
              "<p>9288 rows × 5 columns</p>\n",
              "</div>"
            ],
            "text/plain": [
              "            시가        고가        저가        종가       거래량\n",
              "0     0.968632  0.980489  0.979522  0.975133  0.030291\n",
              "1     0.954691  0.966553  0.961868  0.969880  0.031470\n",
              "2     0.973860  0.983973  0.967164  0.969880  0.047217\n",
              "3     0.965147  0.973521  0.968929  0.964626  0.039781\n",
              "4     0.977346  0.983973  0.981287  0.975133  0.025585\n",
              "...        ...       ...       ...       ...       ...\n",
              "9283  0.000174  0.000174  0.000124  0.000123  0.000995\n",
              "9284  0.000227  0.000226  0.000212  0.000193  0.002587\n",
              "9285  0.000227  0.000244  0.000229  0.000228  0.002363\n",
              "9286  0.000227  0.000226  0.000229  0.000210  0.000332\n",
              "9287  0.000244  0.000244  0.000247  0.000228  0.000342\n",
              "\n",
              "[9288 rows x 5 columns]"
            ]
          },
          "metadata": {
            "tags": []
          },
          "execution_count": 28
        }
      ]
    },
    {
      "cell_type": "code",
      "metadata": {
        "id": "LrzWhZ59knka"
      },
      "source": [
        "# 학습시킬 데이터셋 생성\r\n",
        "\r\n",
        "TEST_SIZE = 200  # 과거부터 200일 이전의 데이터를 학습함\r\n",
        "train = df_scaled[:-TEST_SIZE]  # 처음~200일 이전의 데이터\r\n",
        "test = df_scaled[-TEST_SIZE:]  # 200일 이전~현재 데이터\r\n",
        "\r\n",
        "\r\n",
        "# window_size=20, 과거 20일을 기반으로 내일의 데이터를 예측 \r\n",
        "# 데이터셋을 만들어주는 함수\r\n",
        "# 순차적으로 20일간의 데이터셋을 묶고, label(예측 데이터)와 함께 return함\r\n",
        "def make_dataset(data, label, window_size=20):\r\n",
        "    feature_list = []\r\n",
        "    label_list = []\r\n",
        "    for i in range(len(data) - window_size):\r\n",
        "        feature_list.append(np.array(data.iloc[i:i+window_size]))\r\n",
        "        label_list.append(np.array(label.iloc[i+window_size]))\r\n",
        "    return np.array(feature_list), np.array(label_list)"
      ],
      "execution_count": null,
      "outputs": []
    },
    {
      "cell_type": "code",
      "metadata": {
        "colab": {
          "base_uri": "https://localhost:8080/"
        },
        "id": "LxQ1NnJzlTTC",
        "outputId": "f244227a-4e68-482a-8f0e-c86a078a078c"
      },
      "source": [
        "# feature, label 정의\r\n",
        "\r\n",
        "feature_cols = ['시가', '고가', '저가', '거래량']  # 예측에 사용하려는 columns\r\n",
        "label_cols = ['종가']  # 예측할 column\r\n",
        "\r\n",
        "train_feature = train[feature_cols]\r\n",
        "train_label = train[label_cols]\r\n",
        "test_feature = test[feature_cols]\r\n",
        "test_label = test[label_cols]\r\n",
        "\r\n",
        "# train dataset\r\n",
        "train_feature, train_label = make_dataset(train_feature, train_label, 20)\r\n",
        "\r\n",
        "# train, validation set 생성\r\n",
        "# train dataset을 생성한 후 train, validation으로 쪼갠다\r\n",
        "x_train, x_valid, y_train, y_valid = train_test_split(train_feature, train_label, test_size=0.2)\r\n",
        "print(x_train.shape, x_valid.shape)\r\n",
        "# ((6086, 20, 4), (1522, 20, 4))\r\n",
        "\r\n",
        "# test dataset (실제 예측 해볼 데이터)\r\n",
        "test_feature, test_label = make_dataset(test_feature, test_label, 20)\r\n",
        "print(test_feature.shape, test_label.shape)\r\n",
        "# ((180, 20, 4), (180, 1))"
      ],
      "execution_count": null,
      "outputs": [
        {
          "output_type": "stream",
          "text": [
            "(7254, 20, 4) (1814, 20, 4)\n",
            "(180, 20, 4) (180, 1)\n"
          ],
          "name": "stdout"
        }
      ]
    },
    {
      "cell_type": "code",
      "metadata": {
        "colab": {
          "base_uri": "https://localhost:8080/"
        },
        "id": "hZeChQrYmHPM",
        "outputId": "c179ced8-5e07-400a-d80d-0501c0ed359b"
      },
      "source": [
        "num = [1, 2, 3, 4, 5, 6, 7, 8, 9, 10, 11, 12, 13, 14, 15, 16, 17, 18, 19 ,20]\r\n",
        "train = num[:-5]\r\n",
        "# test = num[-10:]\r\n",
        "train\r\n",
        "# test"
      ],
      "execution_count": null,
      "outputs": [
        {
          "output_type": "execute_result",
          "data": {
            "text/plain": [
              "[1, 2, 3, 4, 5, 6, 7, 8, 9, 10, 11, 12, 13, 14, 15]"
            ]
          },
          "metadata": {
            "tags": []
          },
          "execution_count": 41
        }
      ]
    },
    {
      "cell_type": "code",
      "metadata": {
        "id": "5A4MFPo7sHFM"
      },
      "source": [
        "# keras를 활용한 LSTM 모델 생성\r\n",
        "\r\n",
        "from keras.models import Sequential\r\n",
        "from keras.layers import Dense, LSTM\r\n",
        "from keras.callbacks import EarlyStopping, ModelCheckpoint\r\n",
        "\r\n",
        "model = Sequential()\r\n",
        "model.add(LSTM(16, \r\n",
        "               input_shape=(train_feature.shape[1], train_feature.shape[2]), \r\n",
        "               activation='relu', \r\n",
        "               return_sequences=False)\r\n",
        "          )\r\n",
        "model.add(Dense(1))"
      ],
      "execution_count": null,
      "outputs": []
    },
    {
      "cell_type": "code",
      "metadata": {
        "id": "QChBTbBYuWI1",
        "colab": {
          "base_uri": "https://localhost:8080/"
        },
        "outputId": "167fe4af-c7ff-4ce5-c4f2-e98632c35a27"
      },
      "source": [
        "# 모델 학습\r\n",
        "\r\n",
        "model.compile(loss='mean_squared_error', optimizer='adam')\r\n",
        "early_stop = EarlyStopping(monitor='val_loss', patience=5)\r\n",
        "filename = '/content/drive/MyDrive/NLPstudy/res/tmp_checkpoint.h5'\r\n",
        "checkpoint = ModelCheckpoint(filename, monitor='val_loss', verbose=1, save_best_only=True, mode='auto')\r\n",
        "history = model.fit(x_train, y_train,\r\n",
        "                    epochs=200,\r\n",
        "                    batch_size=16,\r\n",
        "                    validation_data=(x_valid, y_valid),\r\n",
        "                    callbacks=[early_stop, checkpoint])"
      ],
      "execution_count": 50,
      "outputs": [
        {
          "output_type": "stream",
          "text": [
            "Epoch 1/200\n",
            "454/454 [==============================] - 5s 9ms/step - loss: 0.0053 - val_loss: 5.7107e-05\n",
            "\n",
            "Epoch 00001: val_loss improved from inf to 0.00006, saving model to /content/drive/MyDrive/NLPstudy/res/tmp_checkpoint.h5\n",
            "Epoch 2/200\n",
            "454/454 [==============================] - 4s 9ms/step - loss: 5.9813e-05 - val_loss: 5.1112e-05\n",
            "\n",
            "Epoch 00002: val_loss improved from 0.00006 to 0.00005, saving model to /content/drive/MyDrive/NLPstudy/res/tmp_checkpoint.h5\n",
            "Epoch 3/200\n",
            "454/454 [==============================] - 4s 9ms/step - loss: 5.0889e-05 - val_loss: 5.4776e-05\n",
            "\n",
            "Epoch 00003: val_loss did not improve from 0.00005\n",
            "Epoch 4/200\n",
            "454/454 [==============================] - 4s 9ms/step - loss: 4.5847e-05 - val_loss: 8.2783e-05\n",
            "\n",
            "Epoch 00004: val_loss did not improve from 0.00005\n",
            "Epoch 5/200\n",
            "454/454 [==============================] - 4s 8ms/step - loss: 4.4793e-05 - val_loss: 3.9005e-05\n",
            "\n",
            "Epoch 00005: val_loss improved from 0.00005 to 0.00004, saving model to /content/drive/MyDrive/NLPstudy/res/tmp_checkpoint.h5\n",
            "Epoch 6/200\n",
            "454/454 [==============================] - 4s 9ms/step - loss: 3.9409e-05 - val_loss: 4.2183e-05\n",
            "\n",
            "Epoch 00006: val_loss did not improve from 0.00004\n",
            "Epoch 7/200\n",
            "454/454 [==============================] - 4s 8ms/step - loss: 3.6489e-05 - val_loss: 8.3654e-05\n",
            "\n",
            "Epoch 00007: val_loss did not improve from 0.00004\n",
            "Epoch 8/200\n",
            "454/454 [==============================] - 4s 9ms/step - loss: 3.2994e-05 - val_loss: 2.9379e-05\n",
            "\n",
            "Epoch 00008: val_loss improved from 0.00004 to 0.00003, saving model to /content/drive/MyDrive/NLPstudy/res/tmp_checkpoint.h5\n",
            "Epoch 9/200\n",
            "454/454 [==============================] - 4s 8ms/step - loss: 3.3056e-05 - val_loss: 2.7566e-05\n",
            "\n",
            "Epoch 00009: val_loss improved from 0.00003 to 0.00003, saving model to /content/drive/MyDrive/NLPstudy/res/tmp_checkpoint.h5\n",
            "Epoch 10/200\n",
            "454/454 [==============================] - 4s 9ms/step - loss: 3.4358e-05 - val_loss: 2.5958e-05\n",
            "\n",
            "Epoch 00010: val_loss improved from 0.00003 to 0.00003, saving model to /content/drive/MyDrive/NLPstudy/res/tmp_checkpoint.h5\n",
            "Epoch 11/200\n",
            "454/454 [==============================] - 4s 9ms/step - loss: 2.6609e-05 - val_loss: 3.1227e-05\n",
            "\n",
            "Epoch 00011: val_loss did not improve from 0.00003\n",
            "Epoch 12/200\n",
            "454/454 [==============================] - 4s 9ms/step - loss: 2.7826e-05 - val_loss: 2.3528e-05\n",
            "\n",
            "Epoch 00012: val_loss improved from 0.00003 to 0.00002, saving model to /content/drive/MyDrive/NLPstudy/res/tmp_checkpoint.h5\n",
            "Epoch 13/200\n",
            "454/454 [==============================] - 4s 9ms/step - loss: 2.6135e-05 - val_loss: 2.5162e-05\n",
            "\n",
            "Epoch 00013: val_loss did not improve from 0.00002\n",
            "Epoch 14/200\n",
            "454/454 [==============================] - 4s 9ms/step - loss: 2.5016e-05 - val_loss: 2.6258e-05\n",
            "\n",
            "Epoch 00014: val_loss did not improve from 0.00002\n",
            "Epoch 15/200\n",
            "454/454 [==============================] - 4s 9ms/step - loss: 2.3146e-05 - val_loss: 1.9991e-05\n",
            "\n",
            "Epoch 00015: val_loss improved from 0.00002 to 0.00002, saving model to /content/drive/MyDrive/NLPstudy/res/tmp_checkpoint.h5\n",
            "Epoch 16/200\n",
            "454/454 [==============================] - 4s 8ms/step - loss: 2.4297e-05 - val_loss: 1.9662e-05\n",
            "\n",
            "Epoch 00016: val_loss improved from 0.00002 to 0.00002, saving model to /content/drive/MyDrive/NLPstudy/res/tmp_checkpoint.h5\n",
            "Epoch 17/200\n",
            "454/454 [==============================] - 4s 8ms/step - loss: 2.2114e-05 - val_loss: 2.1341e-05\n",
            "\n",
            "Epoch 00017: val_loss did not improve from 0.00002\n",
            "Epoch 18/200\n",
            "454/454 [==============================] - 4s 8ms/step - loss: 2.0669e-05 - val_loss: 2.1285e-05\n",
            "\n",
            "Epoch 00018: val_loss did not improve from 0.00002\n",
            "Epoch 19/200\n",
            "454/454 [==============================] - 4s 8ms/step - loss: 1.9379e-05 - val_loss: 1.6234e-05\n",
            "\n",
            "Epoch 00019: val_loss improved from 0.00002 to 0.00002, saving model to /content/drive/MyDrive/NLPstudy/res/tmp_checkpoint.h5\n",
            "Epoch 20/200\n",
            "454/454 [==============================] - 4s 8ms/step - loss: 2.1278e-05 - val_loss: 3.9994e-05\n",
            "\n",
            "Epoch 00020: val_loss did not improve from 0.00002\n",
            "Epoch 21/200\n",
            "454/454 [==============================] - 4s 8ms/step - loss: 2.0604e-05 - val_loss: 3.4736e-05\n",
            "\n",
            "Epoch 00021: val_loss did not improve from 0.00002\n",
            "Epoch 22/200\n",
            "454/454 [==============================] - 4s 8ms/step - loss: 1.8705e-05 - val_loss: 1.5828e-05\n",
            "\n",
            "Epoch 00022: val_loss improved from 0.00002 to 0.00002, saving model to /content/drive/MyDrive/NLPstudy/res/tmp_checkpoint.h5\n",
            "Epoch 23/200\n",
            "454/454 [==============================] - 4s 8ms/step - loss: 1.8461e-05 - val_loss: 1.5285e-05\n",
            "\n",
            "Epoch 00023: val_loss improved from 0.00002 to 0.00002, saving model to /content/drive/MyDrive/NLPstudy/res/tmp_checkpoint.h5\n",
            "Epoch 24/200\n",
            "454/454 [==============================] - 4s 8ms/step - loss: 1.7983e-05 - val_loss: 2.7650e-05\n",
            "\n",
            "Epoch 00024: val_loss did not improve from 0.00002\n",
            "Epoch 25/200\n",
            "454/454 [==============================] - 4s 9ms/step - loss: 1.8641e-05 - val_loss: 1.2890e-05\n",
            "\n",
            "Epoch 00025: val_loss improved from 0.00002 to 0.00001, saving model to /content/drive/MyDrive/NLPstudy/res/tmp_checkpoint.h5\n",
            "Epoch 26/200\n",
            "454/454 [==============================] - 4s 9ms/step - loss: 1.4898e-05 - val_loss: 1.4463e-05\n",
            "\n",
            "Epoch 00026: val_loss did not improve from 0.00001\n",
            "Epoch 27/200\n",
            "454/454 [==============================] - 4s 8ms/step - loss: 1.5404e-05 - val_loss: 1.3617e-05\n",
            "\n",
            "Epoch 00027: val_loss did not improve from 0.00001\n",
            "Epoch 28/200\n",
            "454/454 [==============================] - 4s 8ms/step - loss: 1.6334e-05 - val_loss: 1.2919e-05\n",
            "\n",
            "Epoch 00028: val_loss did not improve from 0.00001\n",
            "Epoch 29/200\n",
            "454/454 [==============================] - 4s 9ms/step - loss: 1.4491e-05 - val_loss: 1.9329e-05\n",
            "\n",
            "Epoch 00029: val_loss did not improve from 0.00001\n",
            "Epoch 30/200\n",
            "454/454 [==============================] - 4s 8ms/step - loss: 1.5807e-05 - val_loss: 1.3025e-05\n",
            "\n",
            "Epoch 00030: val_loss did not improve from 0.00001\n"
          ],
          "name": "stdout"
        }
      ]
    },
    {
      "cell_type": "code",
      "metadata": {
        "id": "-DXcLER1vVro"
      },
      "source": [
        "# weight 로드\r\n",
        "model.load_weights(filename)\r\n",
        "\r\n",
        "# 예측\r\n",
        "pred = model.predict(test_feature)"
      ],
      "execution_count": 51,
      "outputs": []
    },
    {
      "cell_type": "code",
      "metadata": {
        "colab": {
          "base_uri": "https://localhost:8080/",
          "height": 540
        },
        "id": "x-OiQH0XvgrH",
        "outputId": "aca94350-26c9-45a2-c1dd-cd90ad6e658f"
      },
      "source": [
        "# 실제 데이터와 예측한 데이터 시각화\r\n",
        "plt.figure(figsize=(12, 9))\r\n",
        "plt.plot(test_label, label='actual')\r\n",
        "plt.plot(pred, label='prediction')\r\n",
        "plt.legend()\r\n",
        "plt.show()"
      ],
      "execution_count": 55,
      "outputs": [
        {
          "output_type": "display_data",
          "data": {
            "image/png": "[encoded data removed]",
            "text/plain": [
              "<Figure size 864x648 with 1 Axes>"
            ]
          },
          "metadata": {
            "tags": [],
            "needs_background": "light"
          }
        }
      ]
    },
    {
      "cell_type": "code",
      "metadata": {
        "id": "sZzMI-MkxKIg"
      },
      "source": [
        ""
      ],
      "execution_count": null,
      "outputs": []
    }
  ]
}
