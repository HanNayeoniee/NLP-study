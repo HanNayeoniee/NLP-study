{
  "nbformat": 4,
  "nbformat_minor": 0,
  "metadata": {
    "colab": {
      "name": "Week 01-RNN_hihello.ipynb",
      "provenance": [],
      "collapsed_sections": [],
      "authorship_tag": "ABX9TyNUlS7hNfhtOfB2oAbRvsIw",
      "include_colab_link": true
    },
    "kernelspec": {
      "name": "python3",
      "display_name": "Python 3"
    }
  },
  "cells": [
    {
      "cell_type": "markdown",
      "metadata": {
        "id": "view-in-github",
        "colab_type": "text"
      },
      "source": [
        "<a href=\"https://colab.research.google.com/github/HanNayeoniee/NLP-study/blob/main/Week_01_RNN_hihello.ipynb\" target=\"_parent\"><img src=\"https://colab.research.google.com/assets/colab-badge.svg\" alt=\"Open In Colab\"/></a>"
      ]
    },
    {
      "cell_type": "markdown",
      "metadata": {
        "id": "aIBeZreFbwBY"
      },
      "source": [
        "# 모두를 위한 딥러닝 시즌 2\r\n",
        "\r\n",
        "강의 링크 : https://www.youtube.com/watch?v=37jxyHXzxU4&list=PLQ28Nx3M4JrhkqBVIXg-i5_CVVoS1UzAv&index=28\r\n",
        "\r\n",
        "깃허브 링크 : https://github.com/deeplearningzerotoall/PyTorch"
      ]
    },
    {
      "cell_type": "markdown",
      "metadata": {
        "id": "5gRSc0GQLO3K"
      },
      "source": [
        "문자 단위로 알파벳 예측하기\r\n",
        "\r\n",
        "(입력값) -> (예측값)\r\n",
        "\r\n",
        "h -> i\r\n",
        "\r\n",
        "i -> h\r\n",
        "\r\n",
        "h -> e\r\n",
        "\r\n",
        "e -> l\r\n",
        "\r\n",
        "l -> l\r\n",
        "\r\n",
        "l -> o\r\n"
      ]
    },
    {
      "cell_type": "code",
      "metadata": {
        "colab": {
          "base_uri": "https://localhost:8080/"
        },
        "id": "VO8wNVhZbyAf",
        "outputId": "e4efa498-7d4c-41d8-b3c0-bbc101e76a5a"
      },
      "source": [
        "import torch\r\n",
        "import torch.optim as optim\r\n",
        "import torch.nn as nn\r\n",
        "import numpy as np\r\n",
        "torch.manual_seed(0)"
      ],
      "execution_count": null,
      "outputs": [
        {
          "output_type": "execute_result",
          "data": {
            "text/plain": [
              "<torch._C.Generator at 0x7f3192753b70>"
            ]
          },
          "metadata": {
            "tags": []
          },
          "execution_count": 4
        }
      ]
    },
    {
      "cell_type": "code",
      "metadata": {
        "id": "4RU554Nkgz1X"
      },
      "source": [
        "char_set = ['h', 'i', 'e', 'l', 'o']\r\n",
        "\r\n",
        "# 하이퍼파라미터 설정\r\n",
        "input_size = len(char_set)  # 원핫인코딩을 하기 때문에 데이터의 개수만큼 사이즈가 필요함\r\n",
        "hidden_size = len(char_set)  # 다른 숫자도 상관없음\r\n",
        "learning_rate = 0.1\r\n",
        "\r\n",
        "# data setting\r\n",
        "# hihell\r\n",
        "x_data = [[0, 1, 0, 2, 3, 3]]\r\n",
        "x_one_hot = [[[1, 0, 0, 0, 0],\r\n",
        "              [0, 1, 0, 0, 0],\r\n",
        "              [1, 0, 0, 0, 0],\r\n",
        "              [0, 0, 1, 0, 0],\r\n",
        "              [0, 0, 0, 1, 0],\r\n",
        "              [0, 0, 0, 1, 0]]]\r\n",
        "\r\n",
        "# ihello\r\n",
        "y_data = [[1, 0, 2, 3, 3, 4]]"
      ],
      "execution_count": null,
      "outputs": []
    },
    {
      "cell_type": "code",
      "metadata": {
        "id": "lyzCTQefmT0M"
      },
      "source": [
        "### 일반적인 데이터 전처리(원핫 인코딩)\r\n",
        "\r\n",
        "sample = \" if you want you\"\r\n",
        "\r\n",
        "# 딕셔너리 만들기\r\n",
        "char_set = list(set(sample))  # 중복된 문자는 제거해 문자 리스트 만들기\r\n",
        "char_dic = {c: i for i, c in enumerate(char_set)}\r\n",
        "\r\n",
        "# 하이퍼 파라미터 설정\r\n",
        "dic_size = len(char_dic)\r\n",
        "hidden_size = len(char_dic)\r\n",
        "learning_rate = 0.1\r\n",
        "\r\n",
        "# data setting\r\n",
        "sample_idx = [char_dic[c] for c in sample]\r\n",
        "x_data = [sample_idx[:-1]]\r\n",
        "x_one_hot = [np.eye(dic_size)[x] for x in x_data]\r\n",
        "y_data = [sample_idx[1:]]"
      ],
      "execution_count": null,
      "outputs": []
    },
    {
      "cell_type": "code",
      "metadata": {
        "id": "_T5Uz67wi1pq"
      },
      "source": [
        "# 파이썬의 리스트로 구성된 데이터를 파이토치의 tensor 타입으로 변환\r\n",
        "X = torch.FloatTensor(x_one_hot)\r\n",
        "Y = torch.LongTensor(y_data)"
      ],
      "execution_count": null,
      "outputs": []
    },
    {
      "cell_type": "code",
      "metadata": {
        "id": "nn9A9y7gjN0w"
      },
      "source": [
        "# RNN 선언\r\n",
        "rnn = nn.RNN(input_size, hidden_size, batch_first=True)  # 배치 dimension을 가장 앞으로 오게 함\r\n",
        "\r\n",
        "# loss, optimizer setting\r\n",
        "criterion = nn.CrossEntropyLoss()\r\n",
        "optimizer = optim.Adam(rnn.parameters(), learning_rate)"
      ],
      "execution_count": null,
      "outputs": []
    },
    {
      "cell_type": "code",
      "metadata": {
        "colab": {
          "base_uri": "https://localhost:8080/"
        },
        "id": "0NI4K16JlaOm",
        "outputId": "4cbeb3f4-a97d-4861-a078-6d4193f956ab"
      },
      "source": [
        "# training 시작\r\n",
        "for i in range(100):\r\n",
        "    optimizer.zero_grad()  # 매 flow마다 새로운 gradient를 구할 수 있음, 안하면 gradient가 축적됨\r\n",
        "    outputs, _status = rnn(X)  # _status는 hidden state\r\n",
        "    loss = criterion(outputs.view(-1, input_size), Y.view(-1))  # 첫번째 파라미터는 모델의 output, 두번째 파라미터는 정답label\r\n",
        "    loss.backward()  # back propagation을 수행해 gradient값을 구함\r\n",
        "    optimizer.step()  # 파라미터 업데이트\r\n",
        "\r\n",
        "    result = outputs.data.numpy().argmax(axis=2)\r\n",
        "    result_str = ''.join([char_set[c] for c in np.squeeze(result)])\r\n",
        "    print(i, \"loss: \", loss.item(), \"prediction: \", result, \"true Y: \", y_data, \"prediction str: \", result_str)"
      ],
      "execution_count": null,
      "outputs": [
        {
          "output_type": "stream",
          "text": [
            "0 loss:  1.7802648544311523 prediction:  [[1 1 1 1 1 1]] true Y:  [[1, 0, 2, 3, 3, 4]] prediction str:  iiiiii\n",
            "1 loss:  1.4931949377059937 prediction:  [[1 4 1 1 4 4]] true Y:  [[1, 0, 2, 3, 3, 4]] prediction str:  ioiioo\n",
            "2 loss:  1.33371102809906 prediction:  [[1 3 2 3 1 4]] true Y:  [[1, 0, 2, 3, 3, 4]] prediction str:  ilelio\n",
            "3 loss:  1.2152944803237915 prediction:  [[2 3 2 3 3 3]] true Y:  [[1, 0, 2, 3, 3, 4]] prediction str:  elelll\n",
            "4 loss:  1.1131387948989868 prediction:  [[2 3 2 3 3 3]] true Y:  [[1, 0, 2, 3, 3, 4]] prediction str:  elelll\n",
            "5 loss:  1.0241864919662476 prediction:  [[2 3 2 3 3 4]] true Y:  [[1, 0, 2, 3, 3, 4]] prediction str:  elello\n",
            "6 loss:  0.9573140740394592 prediction:  [[2 3 2 3 3 4]] true Y:  [[1, 0, 2, 3, 3, 4]] prediction str:  elello\n",
            "7 loss:  0.9102001786231995 prediction:  [[2 0 2 3 3 4]] true Y:  [[1, 0, 2, 3, 3, 4]] prediction str:  ehello\n",
            "8 loss:  0.8731765151023865 prediction:  [[1 0 2 3 3 4]] true Y:  [[1, 0, 2, 3, 3, 4]] prediction str:  ihello\n",
            "9 loss:  0.8399617671966553 prediction:  [[1 0 2 3 3 4]] true Y:  [[1, 0, 2, 3, 3, 4]] prediction str:  ihello\n",
            "10 loss:  0.8088943362236023 prediction:  [[1 0 2 3 3 4]] true Y:  [[1, 0, 2, 3, 3, 4]] prediction str:  ihello\n",
            "11 loss:  0.7812859416007996 prediction:  [[1 0 2 3 3 4]] true Y:  [[1, 0, 2, 3, 3, 4]] prediction str:  ihello\n",
            "12 loss:  0.7585341334342957 prediction:  [[1 3 2 3 3 4]] true Y:  [[1, 0, 2, 3, 3, 4]] prediction str:  ilello\n",
            "13 loss:  0.7401286959648132 prediction:  [[1 3 2 3 3 4]] true Y:  [[1, 0, 2, 3, 3, 4]] prediction str:  ilello\n",
            "14 loss:  0.7243586182594299 prediction:  [[1 3 2 3 3 4]] true Y:  [[1, 0, 2, 3, 3, 4]] prediction str:  ilello\n",
            "15 loss:  0.7091224193572998 prediction:  [[1 3 2 3 3 4]] true Y:  [[1, 0, 2, 3, 3, 4]] prediction str:  ilello\n",
            "16 loss:  0.6929273009300232 prediction:  [[1 3 2 3 3 4]] true Y:  [[1, 0, 2, 3, 3, 4]] prediction str:  ilello\n",
            "17 loss:  0.6821203231811523 prediction:  [[1 3 2 3 3 4]] true Y:  [[1, 0, 2, 3, 3, 4]] prediction str:  ilello\n",
            "18 loss:  0.673527717590332 prediction:  [[1 3 2 3 3 4]] true Y:  [[1, 0, 2, 3, 3, 4]] prediction str:  ilello\n",
            "19 loss:  0.6595445275306702 prediction:  [[1 3 2 3 3 4]] true Y:  [[1, 0, 2, 3, 3, 4]] prediction str:  ilello\n",
            "20 loss:  0.6534828543663025 prediction:  [[1 3 2 3 3 4]] true Y:  [[1, 0, 2, 3, 3, 4]] prediction str:  ilello\n",
            "21 loss:  0.6465461254119873 prediction:  [[1 3 2 3 3 4]] true Y:  [[1, 0, 2, 3, 3, 4]] prediction str:  ilello\n",
            "22 loss:  0.639818549156189 prediction:  [[1 3 2 3 3 4]] true Y:  [[1, 0, 2, 3, 3, 4]] prediction str:  ilello\n",
            "23 loss:  0.6381519436836243 prediction:  [[1 3 2 3 3 4]] true Y:  [[1, 0, 2, 3, 3, 4]] prediction str:  ilello\n",
            "24 loss:  0.6326726078987122 prediction:  [[1 3 2 3 3 4]] true Y:  [[1, 0, 2, 3, 3, 4]] prediction str:  ilello\n",
            "25 loss:  0.6256730556488037 prediction:  [[1 3 2 3 3 4]] true Y:  [[1, 0, 2, 3, 3, 4]] prediction str:  ilello\n",
            "26 loss:  0.6215081214904785 prediction:  [[1 3 2 3 3 4]] true Y:  [[1, 0, 2, 3, 3, 4]] prediction str:  ilello\n",
            "27 loss:  0.6167056560516357 prediction:  [[1 3 2 3 3 4]] true Y:  [[1, 0, 2, 3, 3, 4]] prediction str:  ilello\n",
            "28 loss:  0.609936535358429 prediction:  [[1 3 2 3 3 4]] true Y:  [[1, 0, 2, 3, 3, 4]] prediction str:  ilello\n",
            "29 loss:  0.6030198931694031 prediction:  [[1 3 2 3 3 4]] true Y:  [[1, 0, 2, 3, 3, 4]] prediction str:  ilello\n",
            "30 loss:  0.5992398858070374 prediction:  [[1 3 2 3 3 4]] true Y:  [[1, 0, 2, 3, 3, 4]] prediction str:  ilello\n",
            "31 loss:  0.5964339375495911 prediction:  [[1 3 2 3 3 4]] true Y:  [[1, 0, 2, 3, 3, 4]] prediction str:  ilello\n",
            "32 loss:  0.5916647911071777 prediction:  [[1 3 2 3 3 4]] true Y:  [[1, 0, 2, 3, 3, 4]] prediction str:  ilello\n",
            "33 loss:  0.5881564021110535 prediction:  [[1 3 2 3 3 4]] true Y:  [[1, 0, 2, 3, 3, 4]] prediction str:  ilello\n",
            "34 loss:  0.585434079170227 prediction:  [[1 3 2 3 3 4]] true Y:  [[1, 0, 2, 3, 3, 4]] prediction str:  ilello\n",
            "35 loss:  0.581319272518158 prediction:  [[1 3 2 3 3 4]] true Y:  [[1, 0, 2, 3, 3, 4]] prediction str:  ilello\n",
            "36 loss:  0.5761869549751282 prediction:  [[1 3 2 3 3 4]] true Y:  [[1, 0, 2, 3, 3, 4]] prediction str:  ilello\n",
            "37 loss:  0.5734921097755432 prediction:  [[1 3 2 3 3 4]] true Y:  [[1, 0, 2, 3, 3, 4]] prediction str:  ilello\n",
            "38 loss:  0.5727558732032776 prediction:  [[1 3 2 3 3 4]] true Y:  [[1, 0, 2, 3, 3, 4]] prediction str:  ilello\n",
            "39 loss:  0.5682087540626526 prediction:  [[1 3 2 3 3 4]] true Y:  [[1, 0, 2, 3, 3, 4]] prediction str:  ilello\n",
            "40 loss:  0.5656264424324036 prediction:  [[1 3 2 3 3 4]] true Y:  [[1, 0, 2, 3, 3, 4]] prediction str:  ilello\n",
            "41 loss:  0.5647334456443787 prediction:  [[1 3 2 3 3 4]] true Y:  [[1, 0, 2, 3, 3, 4]] prediction str:  ilello\n",
            "42 loss:  0.5629469752311707 prediction:  [[1 3 2 3 3 4]] true Y:  [[1, 0, 2, 3, 3, 4]] prediction str:  ilello\n",
            "43 loss:  0.5603768229484558 prediction:  [[1 3 2 3 3 4]] true Y:  [[1, 0, 2, 3, 3, 4]] prediction str:  ilello\n",
            "44 loss:  0.5588171482086182 prediction:  [[1 3 2 3 3 4]] true Y:  [[1, 0, 2, 3, 3, 4]] prediction str:  ilello\n",
            "45 loss:  0.5584633946418762 prediction:  [[1 3 2 3 3 4]] true Y:  [[1, 0, 2, 3, 3, 4]] prediction str:  ilello\n",
            "46 loss:  0.5565400123596191 prediction:  [[1 3 2 3 3 4]] true Y:  [[1, 0, 2, 3, 3, 4]] prediction str:  ilello\n",
            "47 loss:  0.5548030734062195 prediction:  [[1 3 2 3 3 4]] true Y:  [[1, 0, 2, 3, 3, 4]] prediction str:  ilello\n",
            "48 loss:  0.5542734265327454 prediction:  [[1 3 2 3 3 4]] true Y:  [[1, 0, 2, 3, 3, 4]] prediction str:  ilello\n",
            "49 loss:  0.5534440279006958 prediction:  [[1 3 2 3 3 4]] true Y:  [[1, 0, 2, 3, 3, 4]] prediction str:  ilello\n",
            "50 loss:  0.552009642124176 prediction:  [[1 3 2 3 3 4]] true Y:  [[1, 0, 2, 3, 3, 4]] prediction str:  ilello\n",
            "51 loss:  0.5510938763618469 prediction:  [[1 3 2 3 3 4]] true Y:  [[1, 0, 2, 3, 3, 4]] prediction str:  ilello\n",
            "52 loss:  0.5506716370582581 prediction:  [[1 3 2 3 3 4]] true Y:  [[1, 0, 2, 3, 3, 4]] prediction str:  ilello\n",
            "53 loss:  0.5493642687797546 prediction:  [[1 3 2 3 3 4]] true Y:  [[1, 0, 2, 3, 3, 4]] prediction str:  ilello\n",
            "54 loss:  0.5483370423316956 prediction:  [[1 3 2 3 3 4]] true Y:  [[1, 0, 2, 3, 3, 4]] prediction str:  ilello\n",
            "55 loss:  0.5478050708770752 prediction:  [[1 3 2 3 3 4]] true Y:  [[1, 0, 2, 3, 3, 4]] prediction str:  ilello\n",
            "56 loss:  0.5469383597373962 prediction:  [[1 3 2 3 3 4]] true Y:  [[1, 0, 2, 3, 3, 4]] prediction str:  ilello\n",
            "57 loss:  0.5459226965904236 prediction:  [[1 3 2 3 3 4]] true Y:  [[1, 0, 2, 3, 3, 4]] prediction str:  ilello\n",
            "58 loss:  0.5454026460647583 prediction:  [[1 3 2 3 3 4]] true Y:  [[1, 0, 2, 3, 3, 4]] prediction str:  ilello\n",
            "59 loss:  0.5448523163795471 prediction:  [[1 3 2 3 3 4]] true Y:  [[1, 0, 2, 3, 3, 4]] prediction str:  ilello\n",
            "60 loss:  0.543980598449707 prediction:  [[1 3 2 3 3 4]] true Y:  [[1, 0, 2, 3, 3, 4]] prediction str:  ilello\n",
            "61 loss:  0.5434583425521851 prediction:  [[1 3 2 3 3 4]] true Y:  [[1, 0, 2, 3, 3, 4]] prediction str:  ilello\n",
            "62 loss:  0.5429834723472595 prediction:  [[1 3 2 3 3 4]] true Y:  [[1, 0, 2, 3, 3, 4]] prediction str:  ilello\n",
            "63 loss:  0.5422742962837219 prediction:  [[1 3 2 3 3 4]] true Y:  [[1, 0, 2, 3, 3, 4]] prediction str:  ilello\n",
            "64 loss:  0.5417041182518005 prediction:  [[1 3 2 3 3 4]] true Y:  [[1, 0, 2, 3, 3, 4]] prediction str:  ilello\n",
            "65 loss:  0.5413309335708618 prediction:  [[1 3 2 3 3 4]] true Y:  [[1, 0, 2, 3, 3, 4]] prediction str:  ilello\n",
            "66 loss:  0.5407488942146301 prediction:  [[1 3 2 3 3 4]] true Y:  [[1, 0, 2, 3, 3, 4]] prediction str:  ilello\n",
            "67 loss:  0.5402577519416809 prediction:  [[1 3 2 3 3 4]] true Y:  [[1, 0, 2, 3, 3, 4]] prediction str:  ilello\n",
            "68 loss:  0.5399190783500671 prediction:  [[1 3 2 3 3 4]] true Y:  [[1, 0, 2, 3, 3, 4]] prediction str:  ilello\n",
            "69 loss:  0.5394624471664429 prediction:  [[1 3 2 3 3 4]] true Y:  [[1, 0, 2, 3, 3, 4]] prediction str:  ilello\n",
            "70 loss:  0.539009153842926 prediction:  [[1 3 2 3 3 4]] true Y:  [[1, 0, 2, 3, 3, 4]] prediction str:  ilello\n",
            "71 loss:  0.5387027859687805 prediction:  [[1 3 2 3 3 4]] true Y:  [[1, 0, 2, 3, 3, 4]] prediction str:  ilello\n",
            "72 loss:  0.5383160710334778 prediction:  [[1 3 2 3 3 4]] true Y:  [[1, 0, 2, 3, 3, 4]] prediction str:  ilello\n",
            "73 loss:  0.5379176735877991 prediction:  [[1 3 2 3 3 4]] true Y:  [[1, 0, 2, 3, 3, 4]] prediction str:  ilello\n",
            "74 loss:  0.5376289486885071 prediction:  [[1 3 2 3 3 4]] true Y:  [[1, 0, 2, 3, 3, 4]] prediction str:  ilello\n",
            "75 loss:  0.5372946858406067 prediction:  [[1 3 2 3 3 4]] true Y:  [[1, 0, 2, 3, 3, 4]] prediction str:  ilello\n",
            "76 loss:  0.536936342716217 prediction:  [[1 3 2 3 3 4]] true Y:  [[1, 0, 2, 3, 3, 4]] prediction str:  ilello\n",
            "77 loss:  0.536663830280304 prediction:  [[1 3 2 3 3 4]] true Y:  [[1, 0, 2, 3, 3, 4]] prediction str:  ilello\n",
            "78 loss:  0.5363660454750061 prediction:  [[1 3 2 3 3 4]] true Y:  [[1, 0, 2, 3, 3, 4]] prediction str:  ilello\n",
            "79 loss:  0.5360466837882996 prediction:  [[1 3 2 3 3 4]] true Y:  [[1, 0, 2, 3, 3, 4]] prediction str:  ilello\n",
            "80 loss:  0.535793125629425 prediction:  [[1 3 2 3 3 4]] true Y:  [[1, 0, 2, 3, 3, 4]] prediction str:  ilello\n",
            "81 loss:  0.5355224013328552 prediction:  [[1 3 2 3 3 4]] true Y:  [[1, 0, 2, 3, 3, 4]] prediction str:  ilello\n",
            "82 loss:  0.5352356433868408 prediction:  [[1 3 2 3 3 4]] true Y:  [[1, 0, 2, 3, 3, 4]] prediction str:  ilello\n",
            "83 loss:  0.5349993109703064 prediction:  [[1 3 2 3 3 4]] true Y:  [[1, 0, 2, 3, 3, 4]] prediction str:  ilello\n",
            "84 loss:  0.5347511172294617 prediction:  [[1 3 2 3 3 4]] true Y:  [[1, 0, 2, 3, 3, 4]] prediction str:  ilello\n",
            "85 loss:  0.5344937443733215 prediction:  [[1 3 2 3 3 4]] true Y:  [[1, 0, 2, 3, 3, 4]] prediction str:  ilello\n",
            "86 loss:  0.534275472164154 prediction:  [[1 3 2 3 3 4]] true Y:  [[1, 0, 2, 3, 3, 4]] prediction str:  ilello\n",
            "87 loss:  0.534046471118927 prediction:  [[1 3 2 3 3 4]] true Y:  [[1, 0, 2, 3, 3, 4]] prediction str:  ilello\n",
            "88 loss:  0.5338149666786194 prediction:  [[1 3 2 3 3 4]] true Y:  [[1, 0, 2, 3, 3, 4]] prediction str:  ilello\n",
            "89 loss:  0.5336135625839233 prediction:  [[1 3 2 3 3 4]] true Y:  [[1, 0, 2, 3, 3, 4]] prediction str:  ilello\n",
            "90 loss:  0.5334025025367737 prediction:  [[1 3 2 3 3 4]] true Y:  [[1, 0, 2, 3, 3, 4]] prediction str:  ilello\n",
            "91 loss:  0.5331950783729553 prediction:  [[1 3 2 3 3 4]] true Y:  [[1, 0, 2, 3, 3, 4]] prediction str:  ilello\n",
            "92 loss:  0.5330095887184143 prediction:  [[1 3 2 3 3 4]] true Y:  [[1, 0, 2, 3, 3, 4]] prediction str:  ilello\n",
            "93 loss:  0.5328157544136047 prediction:  [[1 3 2 3 3 4]] true Y:  [[1, 0, 2, 3, 3, 4]] prediction str:  ilello\n",
            "94 loss:  0.5326293110847473 prediction:  [[1 3 2 3 3 4]] true Y:  [[1, 0, 2, 3, 3, 4]] prediction str:  ilello\n",
            "95 loss:  0.5324582457542419 prediction:  [[1 3 2 3 3 4]] true Y:  [[1, 0, 2, 3, 3, 4]] prediction str:  ilello\n",
            "96 loss:  0.5322802662849426 prediction:  [[1 3 2 3 3 4]] true Y:  [[1, 0, 2, 3, 3, 4]] prediction str:  ilello\n",
            "97 loss:  0.5321123600006104 prediction:  [[1 3 2 3 3 4]] true Y:  [[1, 0, 2, 3, 3, 4]] prediction str:  ilello\n",
            "98 loss:  0.5319532155990601 prediction:  [[1 3 2 3 3 4]] true Y:  [[1, 0, 2, 3, 3, 4]] prediction str:  ilello\n",
            "99 loss:  0.5317898392677307 prediction:  [[1 3 2 3 3 4]] true Y:  [[1, 0, 2, 3, 3, 4]] prediction str:  ilello\n"
          ],
          "name": "stdout"
        }
      ]
    },
    {
      "cell_type": "code",
      "metadata": {
        "id": "F5axl0PWm_PR"
      },
      "source": [
        ""
      ],
      "execution_count": null,
      "outputs": []
    }
  ]
}