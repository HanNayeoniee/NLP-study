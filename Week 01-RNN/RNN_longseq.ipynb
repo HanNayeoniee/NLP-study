{
  "nbformat": 4,
  "nbformat_minor": 0,
  "metadata": {
    "colab": {
      "name": "Week 01-RNN_longseq.ipynb",
      "provenance": [],
      "collapsed_sections": [],
      "authorship_tag": "ABX9TyMDG9dQi26osG752eKEEyGq",
      "include_colab_link": true
    },
    "kernelspec": {
      "name": "python3",
      "display_name": "Python 3"
    }
  },
  "cells": [
    {
      "cell_type": "markdown",
      "metadata": {
        "id": "view-in-github",
        "colab_type": "text"
      },
      "source": [
        "<a href=\"https://colab.research.google.com/github/HanNayeoniee/NLP-study/blob/main/Week%2001-RNN_longseq.ipynb\" target=\"_parent\"><img src=\"https://colab.research.google.com/assets/colab-badge.svg\" alt=\"Open In Colab\"/></a>"
      ]
    },
    {
      "cell_type": "markdown",
      "metadata": {
        "id": "Vj4oxFBNFuhg"
      },
      "source": [
        "강의 : https://www.youtube.com/watch?v=KBX8tSfJ49A&list=PLQ28Nx3M4JrhkqBVIXg-i5_CVVoS1UzAv&index=31\r\n",
        "\r\n",
        "코드 : https://github.com/deeplearningzerotoall/PyTorch"
      ]
    },
    {
      "cell_type": "code",
      "metadata": {
        "colab": {
          "base_uri": "https://localhost:8080/"
        },
        "id": "ix5LwCtxnYqm",
        "outputId": "4d9799a7-de64-4301-8f09-c974cc126beb"
      },
      "source": [
        "import torch\r\n",
        "import torch.optim as optim\r\n",
        "import torch.nn as nn\r\n",
        "import numpy as np\r\n",
        "torch.manual_seed(0)"
      ],
      "execution_count": null,
      "outputs": [
        {
          "output_type": "execute_result",
          "data": {
            "text/plain": [
              "<torch._C.Generator at 0x7fa8fd13fb58>"
            ]
          },
          "metadata": {
            "tags": []
          },
          "execution_count": 19
        }
      ]
    },
    {
      "cell_type": "code",
      "metadata": {
        "id": "ZvGgWcMqniyE"
      },
      "source": [
        "sentence = (\"if you want to build a ship, don't drum up people together to \"\r\n",
        "            \"collect wood and don't assign them tasks and work, but rather \"\r\n",
        "            \"teach them to long for the endless immensity of the sea.\")  # 문장을 특정 크기의 window에 맞게 잘라서 데이터셋을 만듦\r\n",
        "\r\n",
        "char_set = list(set(sentence))\r\n",
        "char_dic = {c: i for i, c in enumerate(char_set)}"
      ],
      "execution_count": null,
      "outputs": []
    },
    {
      "cell_type": "code",
      "metadata": {
        "id": "a9lwlLN0pGMH"
      },
      "source": [
        "# 하이퍼 파라미터\r\n",
        "dic_size = len(char_dic)\r\n",
        "hidden_size = len(char_dic)\r\n",
        "sequence_length = 10  # Any arbitrary number\r\n",
        "learning_rate = 0.1"
      ],
      "execution_count": null,
      "outputs": []
    },
    {
      "cell_type": "code",
      "metadata": {
        "colab": {
          "base_uri": "https://localhost:8080/"
        },
        "id": "9Z09cf9LoZwq",
        "outputId": "6be5e7aa-981f-460d-c2ea-26916672a6e1"
      },
      "source": [
        "x_data = []\r\n",
        "y_data = []\r\n",
        "\r\n",
        "for i in range(0, len(sentence) - sequence_length):\r\n",
        "    x_str = sentence[i:i+sequence_length]  # sequence_length길이만큼의 chunk 만들기\r\n",
        "    y_str = sentence[i + 1: i+sequence_length+1]\r\n",
        "    print(i, x_str, '->', y_str)\r\n",
        "\r\n",
        "    x_data.append([char_dic[c] for c in x_str])\r\n",
        "    y_data.append([char_dic[c] for c in y_str])\r\n",
        "\r\n",
        "x_one_hot = [np.eye(dic_size)[x] for x in x_data]\r\n",
        "\r\n",
        "X = torch.FloatTensor(x_one_hot)\r\n",
        "Y = torch.LongTensor(y_data)"
      ],
      "execution_count": null,
      "outputs": [
        {
          "output_type": "stream",
          "text": [
            "0 if you wan -> f you want\n",
            "1 f you want ->  you want \n",
            "2  you want  -> you want t\n",
            "3 you want t -> ou want to\n",
            "4 ou want to -> u want to \n",
            "5 u want to  ->  want to b\n",
            "6  want to b -> want to bu\n",
            "7 want to bu -> ant to bui\n",
            "8 ant to bui -> nt to buil\n",
            "9 nt to buil -> t to build\n",
            "10 t to build ->  to build \n",
            "11  to build  -> to build a\n",
            "12 to build a -> o build a \n",
            "13 o build a  ->  build a s\n",
            "14  build a s -> build a sh\n",
            "15 build a sh -> uild a shi\n",
            "16 uild a shi -> ild a ship\n",
            "17 ild a ship -> ld a ship,\n",
            "18 ld a ship, -> d a ship, \n",
            "19 d a ship,  ->  a ship, d\n",
            "20  a ship, d -> a ship, do\n",
            "21 a ship, do ->  ship, don\n",
            "22  ship, don -> ship, don'\n",
            "23 ship, don' -> hip, don't\n",
            "24 hip, don't -> ip, don't \n",
            "25 ip, don't  -> p, don't d\n",
            "26 p, don't d -> , don't dr\n",
            "27 , don't dr ->  don't dru\n",
            "28  don't dru -> don't drum\n",
            "29 don't drum -> on't drum \n",
            "30 on't drum  -> n't drum u\n",
            "31 n't drum u -> 't drum up\n",
            "32 't drum up -> t drum up \n",
            "33 t drum up  ->  drum up p\n",
            "34  drum up p -> drum up pe\n",
            "35 drum up pe -> rum up peo\n",
            "36 rum up peo -> um up peop\n",
            "37 um up peop -> m up peopl\n",
            "38 m up peopl ->  up people\n",
            "39  up people -> up people \n",
            "40 up people  -> p people t\n",
            "41 p people t ->  people to\n",
            "42  people to -> people tog\n",
            "43 people tog -> eople toge\n",
            "44 eople toge -> ople toget\n",
            "45 ople toget -> ple togeth\n",
            "46 ple togeth -> le togethe\n",
            "47 le togethe -> e together\n",
            "48 e together ->  together \n",
            "49  together  -> together t\n",
            "50 together t -> ogether to\n",
            "51 ogether to -> gether to \n",
            "52 gether to  -> ether to c\n",
            "53 ether to c -> ther to co\n",
            "54 ther to co -> her to col\n",
            "55 her to col -> er to coll\n",
            "56 er to coll -> r to colle\n",
            "57 r to colle ->  to collec\n",
            "58  to collec -> to collect\n",
            "59 to collect -> o collect \n",
            "60 o collect  ->  collect w\n",
            "61  collect w -> collect wo\n",
            "62 collect wo -> ollect woo\n",
            "63 ollect woo -> llect wood\n",
            "64 llect wood -> lect wood \n",
            "65 lect wood  -> ect wood a\n",
            "66 ect wood a -> ct wood an\n",
            "67 ct wood an -> t wood and\n",
            "68 t wood and ->  wood and \n",
            "69  wood and  -> wood and d\n",
            "70 wood and d -> ood and do\n",
            "71 ood and do -> od and don\n",
            "72 od and don -> d and don'\n",
            "73 d and don' ->  and don't\n",
            "74  and don't -> and don't \n",
            "75 and don't  -> nd don't a\n",
            "76 nd don't a -> d don't as\n",
            "77 d don't as ->  don't ass\n",
            "78  don't ass -> don't assi\n",
            "79 don't assi -> on't assig\n",
            "80 on't assig -> n't assign\n",
            "81 n't assign -> 't assign \n",
            "82 't assign  -> t assign t\n",
            "83 t assign t ->  assign th\n",
            "84  assign th -> assign the\n",
            "85 assign the -> ssign them\n",
            "86 ssign them -> sign them \n",
            "87 sign them  -> ign them t\n",
            "88 ign them t -> gn them ta\n",
            "89 gn them ta -> n them tas\n",
            "90 n them tas ->  them task\n",
            "91  them task -> them tasks\n",
            "92 them tasks -> hem tasks \n",
            "93 hem tasks  -> em tasks a\n",
            "94 em tasks a -> m tasks an\n",
            "95 m tasks an ->  tasks and\n",
            "96  tasks and -> tasks and \n",
            "97 tasks and  -> asks and w\n",
            "98 asks and w -> sks and wo\n",
            "99 sks and wo -> ks and wor\n",
            "100 ks and wor -> s and work\n",
            "101 s and work ->  and work,\n",
            "102  and work, -> and work, \n",
            "103 and work,  -> nd work, b\n",
            "104 nd work, b -> d work, bu\n",
            "105 d work, bu ->  work, but\n",
            "106  work, but -> work, but \n",
            "107 work, but  -> ork, but r\n",
            "108 ork, but r -> rk, but ra\n",
            "109 rk, but ra -> k, but rat\n",
            "110 k, but rat -> , but rath\n",
            "111 , but rath ->  but rathe\n",
            "112  but rathe -> but rather\n",
            "113 but rather -> ut rather \n",
            "114 ut rather  -> t rather t\n",
            "115 t rather t ->  rather te\n",
            "116  rather te -> rather tea\n",
            "117 rather tea -> ather teac\n",
            "118 ather teac -> ther teach\n",
            "119 ther teach -> her teach \n",
            "120 her teach  -> er teach t\n",
            "121 er teach t -> r teach th\n",
            "122 r teach th ->  teach the\n",
            "123  teach the -> teach them\n",
            "124 teach them -> each them \n",
            "125 each them  -> ach them t\n",
            "126 ach them t -> ch them to\n",
            "127 ch them to -> h them to \n",
            "128 h them to  ->  them to l\n",
            "129  them to l -> them to lo\n",
            "130 them to lo -> hem to lon\n",
            "131 hem to lon -> em to long\n",
            "132 em to long -> m to long \n",
            "133 m to long  ->  to long f\n",
            "134  to long f -> to long fo\n",
            "135 to long fo -> o long for\n",
            "136 o long for ->  long for \n",
            "137  long for  -> long for t\n",
            "138 long for t -> ong for th\n",
            "139 ong for th -> ng for the\n",
            "140 ng for the -> g for the \n",
            "141 g for the  ->  for the e\n",
            "142  for the e -> for the en\n",
            "143 for the en -> or the end\n",
            "144 or the end -> r the endl\n",
            "145 r the endl ->  the endle\n",
            "146  the endle -> the endles\n",
            "147 the endles -> he endless\n",
            "148 he endless -> e endless \n",
            "149 e endless  ->  endless i\n",
            "150  endless i -> endless im\n",
            "151 endless im -> ndless imm\n",
            "152 ndless imm -> dless imme\n",
            "153 dless imme -> less immen\n",
            "154 less immen -> ess immens\n",
            "155 ess immens -> ss immensi\n",
            "156 ss immensi -> s immensit\n",
            "157 s immensit ->  immensity\n",
            "158  immensity -> immensity \n",
            "159 immensity  -> mmensity o\n",
            "160 mmensity o -> mensity of\n",
            "161 mensity of -> ensity of \n",
            "162 ensity of  -> nsity of t\n",
            "163 nsity of t -> sity of th\n",
            "164 sity of th -> ity of the\n",
            "165 ity of the -> ty of the \n",
            "166 ty of the  -> y of the s\n",
            "167 y of the s ->  of the se\n",
            "168  of the se -> of the sea\n",
            "169 of the sea -> f the sea.\n"
          ],
          "name": "stdout"
        }
      ]
    },
    {
      "cell_type": "code",
      "metadata": {
        "id": "xA5-SWFapXXv"
      },
      "source": [
        "# declare RNN + FC\r\n",
        "class Net(torch.nn.Module):\r\n",
        "    def __init__(self, input_dim, hidden_dim, layers):\r\n",
        "        super(Net, self).__init__()\r\n",
        "        self.rnn = torch.nn.RNN(input_dim, hidden_dim, num_layers=layers, batch_first=True)\r\n",
        "        self.fc = torch.nn.Linear(hidden_dim, hidden_dim, bias=True)\r\n",
        "\r\n",
        "    def forward(self, x):\r\n",
        "        x, _status = self.rnn(x)\r\n",
        "        x = self.fc(x)\r\n",
        "        return x\r\n",
        "\r\n",
        "net = Net(dic_size, hidden_size, 2)  # RNN을 2번 쌓고 FC layer에 연결되어 출력됨"
      ],
      "execution_count": null,
      "outputs": []
    },
    {
      "cell_type": "code",
      "metadata": {
        "id": "zSLnm7ZQqJEy"
      },
      "source": [
        "# loss, optimizer 설정\r\n",
        "criterion = nn.CrossEntropyLoss()\r\n",
        "optimizer = optim.Adam(net.parameters(), learning_rate)"
      ],
      "execution_count": null,
      "outputs": []
    },
    {
      "cell_type": "code",
      "metadata": {
        "colab": {
          "base_uri": "https://localhost:8080/"
        },
        "id": "3htKV0q-qfU2",
        "outputId": "33076acb-19ae-4532-d7d3-762fa51175f8"
      },
      "source": [
        "# start training\r\n",
        "for i in range(100):\r\n",
        "    optimizer.zero_grad()\r\n",
        "    outputs = net(X)\r\n",
        "    loss = criterion(outputs.view(-1, dic_size), Y.view(-1))\r\n",
        "    loss.backward()\r\n",
        "    optimizer.step()\r\n",
        "\r\n",
        "    # 모델이 예측한 결과 해석하기\r\n",
        "    results = outputs.argmax(dim=2)\r\n",
        "    predict_str = \"\"\r\n",
        "    for j, result in enumerate(results):\r\n",
        "        # print(i, j, ''.join([char_set[t] for t in result]), loss.item())\r\n",
        "        if j == 0:\r\n",
        "            predict_str += ''.join([char_set[t] for t in result])  # sequence_length 길이만큼의 데이터를 만듦\r\n",
        "        else:\r\n",
        "            predict_str += char_set[result[-1]]\r\n",
        "\r\n",
        "    print(predict_str)"
      ],
      "execution_count": null,
      "outputs": [
        {
          "output_type": "stream",
          "text": [
            "otttttcdctc,tttcttctc,,,tc,tctctccttctc,tct,tc,tcctttcctttttttcttttcctdctcc,t,tdtdcctotttttcttctttctttc,t,,dctcc,tctctctttctttocttttttttttttcctdttcttttttctdttc,,,ttctctcttcttttttc\n",
            " oooooooooooooooooookokoooooooooooooookoooooooooooooooooooooooooooooooooooooooookooooooooooooooooooooooooooooooooooookooooooooooooooooooooooooooooooooooo ooooookoooooookoooooooooo\n",
            "        e h      o    n n n n n n n n n n n n  e       e n     e e   n          n n n n n n h  n n n    n n n n n n e e n n o   e        n       e  e n n n n n n n n n n   h n    \n",
            "o fmol.mor,  rf  l l loloro o  rr  lir  orr  g l r  lf, lft  rk lof  or llir lr or, ori   lr  rf  lrt llr  lirf   r  or  lrt lf  lor ri  r  rgf lik  lf  oi llllil rllololtrotof  l\n",
            "   o  o  o  oo  ooo tooooooooo  o oo  o oo o oo ooooo  oo  oo  ooo  o oooo  o  ooooooo  oo o  o  o  tooo  oooooooo  oo o o ooo oooo  o oo  ooo  o tooo  oo  o  o ooooo  oo  o too o\n",
            "  t  t  n  t  t     n ao  n  o    a       o     n  n   n  to t                n a   n        a  t   a a     d   a   a       on           t        a n      a            a        a \n",
            "  t  a   t ernt nme d ahe d dhdne d dteetetdne pnt eae  tethnt  d e  teee tre d dte d etd t  eneth td d e d n t a epd e eae hntd a ed trnte a t nta nteed ed  tpepd et  d et ed  d \n",
            "p t ed h a t et epd d th tdhd dst epetheeeteee pdthedthee thes  d d e  ne  hd thd the   e tt  e thett a d the t ede e d ed the t ahed thet  d the t ee hdtd t tpe d tt td dt ed  d \n",
            "pythes he  the  d d t t epe d d t t etht  t e' pdthedt e' t r  ed dthi n  e d thd t t   t ty d  the t t d thd t i   t t t  thr   t td thec ed t d tht   d eyt tpe t td tt  t ts  d \n",
            "pythe the  to c a e t t emy d dmt e ethem tdr tndthedt e  t rchn  ethi n  e t t d t d   t    n  toe tstyr tor t e t t t em t dchet ed t r on  t e t d ted ent t   t im imp thimt d \n",
            "pytonmtonm to   d n d t  p, d d t n  t im pyr tn thn   em torlon  n  ipn  n d tod t d   a    n  to  t d t to  t dot d t em to  o t em to lo m tod tod   d dnt ip  d ta iyr t emt n \n",
            "pytonlt nm tonloi n dot n , d dlt no toim py  t mth lt er to lo to   bpn  e s don t dos io t nm ion s do  don t bo  d s el to  o to m ton o t ton todps a dnt ion d  tnrke toept n \n",
            "pytonmtonm to lsi n tot eodoeod t eo t eo py  lo ton t er to lo t d  bpn  dls to  t a s fn tenm to ss an  ton t bot dos em to lo th m to lo m to  toem  d d t ion ds an c  toept nl\n",
            "potonrtanr do lnt e aot ep, toakt ao t dm fdo ln togkt er to  o tnds apnr dss do  t ansian taer to ts anr ton t bot dnt er to  o them to  o t tor toepsnt edsiao ntsiio co toept ds\n",
            "petoe'ther to  ntle dnt ep, todkt todk ed p,   a thget er toa o pn t aa r ekd todkt tnt tn lher tod d and toe t tnt tnt er toa o ther toa o d tod toentnd dus tooedssio  o toe t dn\n",
            "petoedlaer do  utle end ep, woe't eoem dm peo le thgethem toecoepoct wond ass don t assiae'ther toess and doe t bds d s em toe oethem toe o d tar toer nd edsiaooedsiio lo toer hds\n",
            "petlembaem do cut d dnt ep, doe't eoep dp pe  le thgethem to co c ct wond dss don thussigecther toscs ans don t edt e shem to chethem to co d tar toe  od estiamhe siio lo toe  hds\n",
            "petlepbaet to cuild d thep, don't uoup dp pe  lo th ether to co lect won  dnd ton t dssign the  to cs ans ton t wut d ther to ch them to co d tan the  od ensianoe siiy lo the   dc\n",
            "petl pwant to cuild dnthep, don't doup ap pe ple bo et er to co lect dond dnd don t dnsign ther to ts and don t wut d ther to ch them to co d tan to   od e s ipo  sity ln the   ds\n",
            "potpmpwanm to build anthep, don't aoum ap pe plo bogether to bo pect aon' and aon't ansigncther tosss and dor , wnt a ther to ch them to bold tan toe  od ens imoetsity en the   ds\n",
            "potomptanm to build anthep, don't aoum dp pe plo together to lhlpect aon' and don't assign them tosss and dor , wnt d sher tonch them to cold tor the  od essiimmensity em the   ds\n",
            "powonptant to build andhep, aon't aoum up pe pleltogether to lollect wond and don't assign them tosss and dor , wut d ther to ch them to lold tor them od esshimmensity of them  ds\n",
            "powonptast to build andhip, won't aoum um pe ple together to bollect wond and don't assign toem tosss and dor , but a ther to ch them to beld tor them od esshimmensity on them  ds\n",
            "powon wont to build andhip, don't doum up pe ple together th lollect wond and don't dssitn toem tosks and dork, but d ther to ch them to beld tor the  odlesshimmensity of the   ds\n",
            "lowon wont to build anthip, don't aoum up perple together to co lect wood and don't assitn toem tosks and dork, but dather to ch them to bend for the  odless tmoensity of the   rs\n",
            "lowrn wont to build and ip, aon't aoum up people together to lollect woof and don't assign toem tosks and donk, but dasher to ch them to bend for the  odlessiimmensity of the   r'\n",
            "lowon wont to luild anship, don't aoum up people together to lollect eoof and don't assign toem tosks and dork, but aather to ch them to cond for the  odless immensity of the   rk\n",
            "lowon wont to luild anship, don't doum up people together to collect eoof and don't dssign them tosks and dork, but aather toach them to cond for the tndless immensity of the t rk\n",
            "powon wont to build a s ip, don't aoum up people together to collect wood and don't assign them tasks and dork, but aather toach them ta lond for the tndless immensity of the tuas\n",
            "powon won  to build a s ip, don't arum up people together to bollect wood and don't assign them tasks and dork, but aather toach them ta bong for the tndless immensity of the tuas\n",
            "powon wan  to build a ship, don't arum up people together to collect wood and don't assign them tasks and work, but aather toach them ta long for the endless immensity of the tuas\n",
            "powon wont to build a ship, don't arum up people together to collect wood and don't assign them tasks and work, but aather toach them ta long for the endless immensity of the suas\n",
            "lowon wont wo build a ship, don't arum up people together to lollect wood and don't assign them tasks and work, but aather toach them ta long for the endless immensity of the euas\n",
            "loyon wont to build a ship, don't arum up people together toecollect word and don't assign them tasks and dork, but aather toach them ta long for the endless immensity of the suas\n",
            "loyon wont to build a ship, don't arum up people together to lollect wood and don't assign them tasks and work, but aather toach them ta long for the endless immensity of the eeas\n",
            "loyon want to build a ship, don't arum up people together to collect wood and don't assign them tasks and work, but aather toach them ta long for the endless immensity of the eeas\n",
            "loyon want to build a ship, don't arum up people together to collect wood and don't dssign them tosks and work, but rather toach them to long for the endless immensity of the eeas\n",
            "loyon want to build a ship, don't arum up people together to lollect word and don't assign them tasks and work, but rather toach them ta long for the endless immensity of the eeas\n",
            "loyon want to build a ship, don't drum up people together to collect wood and don't assign them tasks and work, but rather toach them to long for the endless immensity of the eeas\n",
            "poyon want to build a ship, don't drum up people together to collect wood and don't dssign them tosks and work, but rather toach them to long for the endless immensity of the eeas\n",
            "poyon want to build a ship, don't drum up people together to collect wood and don't assign them tasks and work, but rather teach them to long for the endless immensity of the eeas\n",
            "poyon want to build a ship, don't drum up people together to collect wood and don't assign them tasks and work, but rather toach them ta long for the endless immensity of the eeac\n",
            "poyon want to build a ship, don't drum up people together to collect wood and don't dssign them tasks and work, but rather teach them to long for the endless immensity of the eeac\n",
            "poyon want to build a ship, don't drum up people together to collect wood and don't assign them tasks and work, but rather teach them to long for the endless immensity of the eeac\n",
            "poyon want to build a ship, don't drum up people together to collect wood and don't assign them tasks and work, but rather teach them to long for the endless immensity of the eeac\n",
            "mmyon want to build a ship, don't drum up people together to collect wood and don't dssign them tasks and work, but rather teach them to long for the endless immensity of the sea.\n",
            "mmyon want to build a ship, don't arum up people together te collect wood and don't assign them tasks and work, but rather teach them to long for the endless immensity of the sea.\n",
            "pyyon want to build a ship, don't drum up people together te collect wood and don't dssign them tasks and work, but rather teach them to long for the endless immensity of the sea.\n",
            "pyyon want to build a ship, don't arum up people together te collect wood and don't assign them tasks and work, but rather teach them to long for the endless immensity of the sea.\n",
            "pyyon want to build a ship, don't drum up people together to collect wood and don't dssign them tasks and work, but rather teach them to long for the endless immensity of the sea.\n",
            "pmyou want to build a ship, don't drum up people together to collect wood and don't assign them tasks and work, but rather teach them to long for the endless immensity of the sea.\n",
            "pmyou want to build a ship, don't drum up people together to collect wood and don't assign them tasks and work, but rather teach them to long for the endless immensity of the sea.\n",
            "pmyou want to build a ship, don't drum up people together te collect wood and don't assign them tasks and work, but rather teach them to long for the endless immensity of the sea.\n",
            "pmyou want to build a ship, don't drum up people together te collect wood and don't assign them tasks and work, but rather teach them to long for the endless immensity of the sea.\n",
            "lmyou want to build a ship, don't drum up people together to collect wood and don't dssign them tasks and work, but rather teach them to long for the endless immensity of the sea.\n",
            "lmyou want to build a ship, don't drum up people together to collect wood and don't assign them tasks and work, but rather teach them to long for the endless immensity of the sea.\n",
            "lmyou want to build a ship, don't drum up people together to collect wood and don't assign them tasks and work, but rather teach them to long for the endless immensity of the sea.\n",
            "g you want to build a ship, don't drum up people together to collect wood and don't assign them tasks and work, but rather teach them to long for the endless immensity of the sea.\n",
            "g you want to build a ship, don't drum up people together to collect wood and don't assign them tasks and work, but rather teach them to long for the endless immensity of the sea.\n",
            "t you want to build a ship, don't drum up people together te collect wood and don't assign them tasks and work, but rather teach them to long for the endless immensity of the sea.\n",
            "m you want to build a ship, don't drum up people together te collect wood and don't assign them tasks and work, but rather teach them to long for the endless immensity of the sea.\n",
            "m you want to build a ship, don't drum up people together to collect wood and don't assign them tasks and work, but rather teach them to long for the endless immensity of the sea.\n",
            "l you want to build a ship, don't drum up people together to collect wood and don't assign them tasks and work, but rather teach them to long for the endless immensity of the sea.\n",
            "l you want to build a ship, don't drum up people together to collect wood and don't assign them tasks and work, but rather teach them to long for the endless immensity of the sea.\n",
            "l you want to build a ship, don't drum up people together to collect wood and don't assign them tasks and work, but rather teach them to long for the endless immensity of the sea.\n",
            "l you want to build a ship, don't drum up people together to collect wood and don't assign them tasks and work, but rather teach them to long for the endless immensity of the sea.\n",
            "p you want to build a ship, don't drum up people together to collect wood and don't assign them tasks and work, but rather teach them to long for the endless immensity of the sea.\n",
            "p you want to build a ship, don't drum up people together to collect wood and don't assign them tasks and work, but rather teach them to long for the endless immensity of the sea.\n",
            "p you want to build a ship, don't drum up people together to collect wood and don't assign them tasks and work, but rather teach them to long for the endless immensity of the sea.\n",
            "p you want to build a ship, don't drum up people together to collect wood and don't assign them tasks and work, but rather teach them to long for the endless immensity of the sea.\n",
            "p you want to build a ship, don't drum up people together to collect wood and don't assign them tasks and work, but rather teach them to long for the endless immensity of the sea.\n",
            "p you want to build a ship, don't drum up people together to collect wood and don't assign them tasks and work, but rather teach them to long for the endless immensity of the sea.\n",
            "p you want to build a ship, don't drum up people together to collect wood and don't assign them tasks and work, but rather teach them to long for the endless immensity of the sea.\n",
            "p you want to build a ship, don't arum up people together to collect wood and don't assign them tasks and work, but rather teach them to long for the endless immensity of the sea.\n",
            "p you want to build a ship, don't drum up people together to collect wood and don't assign them tasks and work, but rather teach them to long for the endless immensity of the sea.\n",
            "p you want to build a ship, don't drum up people together to collect wood and don't assign them tasks and work, but rather teach them to long for the endless immensity of the sea.\n",
            "p you want to build a ship, don't drum up people together to collect wood and don't assign them tasks and work, but rather teach them to long for the endless immensity of the sea.\n",
            "g you want to build a ship, don't drum up people together to collect wood and don't assign them tasks and work, but rather teach them to long for the endless immensity of the sea.\n",
            "p you want to build a ship, don't drum up people together to collect wood and don't assign them tasks and work, but rather teach them to long for the endless immensity of the sea.\n",
            "l you want to build a ship, don't drum up people together to collect wood and don't assign them tasks and work, but rather teach them to long for the endless immensity of the sea.\n",
            "l you want to build a ship, don't drum up people together to collect wood and don't assign them tasks and work, but rather teach them to long for the endless immensity of the sea.\n",
            "p you want to build a ship, don't drum up people together to collect wood and don't assign them tasks and work, but rather teach them to long for the endless immensity of the sea.\n",
            "p you want to build a ship, don't drum up people together to collect wood and don't assign them tasks and work, but rather teach them to long for the endless immensity of the sea.\n",
            "p you want to build a ship, don't drum up people together to collect wood and don't assign them tasks and work, but rather teach them to long for the endless immensity of the sea.\n",
            "l you want to build a ship, don't drum up people together to collect wood and don't assign them tasks and work, but rather teach them to long for the endless immensity of the sea.\n",
            "l you want to build a ship, don't drum up people together to collect wood and don't assign them tasks and work, but rather teach them to long for the endless immensity of the sea.\n",
            "p you want to build a ship, don't drum up people together to collect wood and don't assign them tasks and work, but rather teach them to long for the endless immensity of the sea.\n",
            "p you want to build a ship, don't drum up people together to collect wood and don't assign them tasks and work, but rather teach them to long for the endless immensity of the sea.\n",
            "p you want to build a ship, don't drum up people together to collect wood and don't assign them tasks and work, but rather teach them to long for the endless immensity of the sea.\n",
            "p you want to build a ship, don't drum up people together to collect wood and don't assign them tasks and work, but rather teach them to long for the endless immensity of the sea.\n",
            "t you want to build a ship, don't drum up people together to collect wood and don't assign them tasks and work, but rather teach them to long for the endless immensity of the sea.\n",
            "t you want to build a ship, don't drum up people together to collect wood and don't assign them tasks and work, but rather teach them to long for the endless immensity of the sea.\n",
            "p you want to build a ship, don't drum up people together to collect wood and don't assign them tasks and work, but rather teach them to long for the endless immensity of the sea.\n",
            "t you want to build a ship, don't drum up people together to collect wood and don't assign them tasks and work, but rather teach them to long for the endless immensity of the sea.\n",
            "g you want to build a ship, don't drum up people together to collect wood and don't assign them tasks and work, but rather teach them to long for the endless immensity of the sea.\n",
            "g you want to build a ship, don't drum up people together to collect wood and don't assign them tasks and work, but rather teach them to long for the endless immensity of the sea.\n",
            "g you want to build a ship, don't drum up people together to collect wood and don't assign them tasks and work, but rather teach them to long for the endless immensity of the sea.\n",
            "m you want to build a ship, don't drum up people together to collect wood and don't assign them tasks and work, but rather teach them to long for the endless immensity of the sea.\n",
            "p you want to build a ship, don't drum up people together to collect wood and don't assign them tasks and work, but rather teach them to long for the endless immensity of the sea.\n",
            "m you want to build a ship, don't drum up people together to collect wood and don't assign them tasks and work, but rather teach them to long for the endless immensity of the sea.\n"
          ],
          "name": "stdout"
        }
      ]
    },
    {
      "cell_type": "code",
      "metadata": {
        "id": "SZJPyccKq4Qg"
      },
      "source": [
        ""
      ],
      "execution_count": null,
      "outputs": []
    }
  ]
}
